{
 "cells": [
  {
   "cell_type": "code",
   "execution_count": 1,
   "metadata": {},
   "outputs": [],
   "source": [
    "import imageio\n",
    "import os\n",
    "import re"
   ]
  },
  {
   "cell_type": "code",
   "execution_count": 5,
   "metadata": {},
   "outputs": [],
   "source": [
    "gif_files = []\n",
    "directory = '/data1/work/leuven_2024/Daria_Tom/tomografias/imagenes/c2_pov/'\n",
    "directory = '/data1/work/leuven_2024/Daria_Tom/tomografias/imagenes/aia_pov/'\n",
    "file_path = directory + \"list_tom_c2.txt\"\n",
    "file_path = directory + \"list_tom_aia.txt\"\n",
    "#file_path = directory + \"list_awsom.txt\"\n",
    "with open(file_path, 'r') as file:\n",
    "    # Read each line and strip newline characters\n",
    "    gif_files = [directory+line.strip() for line in file]"
   ]
  },
  {
   "cell_type": "code",
   "execution_count": 6,
   "metadata": {},
   "outputs": [
    {
     "data": {
      "text/plain": [
       "['/data1/work/leuven_2024/Daria_Tom/tomografias/imagenes/aia_pov/comp_x_aia.193.cr2223.ri.00-ro1.02_rmax1.3_nrad_30_hollow.diego_l0.3_20191016T0300.193.lev1p5.ETN.Norm-Ck0.1024.b.dat.gif',\n",
       " '/data1/work/leuven_2024/Daria_Tom/tomografias/imagenes/aia_pov/comp_x_aia.193.cr2223.ri.00-ro1.02_rmax1.3_nrad_30_hollow.diego_l0.3_20191017T0300.193.lev1p5.ETN.Norm-Ck0.1024.b.dat.gif',\n",
       " '/data1/work/leuven_2024/Daria_Tom/tomografias/imagenes/aia_pov/comp_x_aia.193.cr2223.ri.00-ro1.02_rmax1.3_nrad_30_hollow.diego_l0.3_20191018T0300.193.lev1p5.ETN.Norm-Ck0.1024.b.dat.gif',\n",
       " '/data1/work/leuven_2024/Daria_Tom/tomografias/imagenes/aia_pov/comp_x_aia.193.cr2223.ri.00-ro1.02_rmax1.3_nrad_30_hollow.diego_l0.3_20191019T0300.193.lev1p5.ETN.Norm-Ck0.1024.b.dat.gif',\n",
       " '/data1/work/leuven_2024/Daria_Tom/tomografias/imagenes/aia_pov/comp_x_aia.193.cr2223.ri.00-ro1.02_rmax1.3_nrad_30_hollow.diego_l0.3_20191020T0300.193.lev1p5.ETN.Norm-Ck0.1024.b.dat.gif',\n",
       " '/data1/work/leuven_2024/Daria_Tom/tomografias/imagenes/aia_pov/comp_x_aia.193.cr2223.ri.00-ro1.02_rmax1.3_nrad_30_hollow.diego_l0.3_20191021T0300.193.lev1p5.ETN.Norm-Ck0.1024.b.dat.gif',\n",
       " '/data1/work/leuven_2024/Daria_Tom/tomografias/imagenes/aia_pov/comp_x_aia.193.cr2223.ri.00-ro1.02_rmax1.3_nrad_30_hollow.diego_l0.3_20191022T0300.193.lev1p5.ETN.Norm-Ck0.1024.b.dat.gif',\n",
       " '/data1/work/leuven_2024/Daria_Tom/tomografias/imagenes/aia_pov/comp_x_aia.193.cr2223.ri.00-ro1.02_rmax1.3_nrad_30_hollow.diego_l0.3_20191023T0300.193.lev1p5.ETN.Norm-Ck0.1024.b.dat.gif',\n",
       " '/data1/work/leuven_2024/Daria_Tom/tomografias/imagenes/aia_pov/comp_x_aia.193.cr2223.ri.00-ro1.02_rmax1.3_nrad_30_hollow.diego_l0.3_20191024T0300.193.lev1p5.ETN.Norm-Ck0.1024.b.dat.gif',\n",
       " '/data1/work/leuven_2024/Daria_Tom/tomografias/imagenes/aia_pov/comp_x_aia.193.cr2223.ri.00-ro1.02_rmax1.3_nrad_30_hollow.diego_l0.3_20191025T0300.193.lev1p5.ETN.Norm-Ck0.1024.b.dat.gif',\n",
       " '/data1/work/leuven_2024/Daria_Tom/tomografias/imagenes/aia_pov/comp_x_aia.193.cr2223.ri.00-ro1.02_rmax1.3_nrad_30_hollow.diego_l0.3_20191026T0300.193.lev1p5.ETN.Norm-Ck0.1024.b.dat.gif',\n",
       " '/data1/work/leuven_2024/Daria_Tom/tomografias/imagenes/aia_pov/comp_x_aia.193.cr2223.ri.00-ro1.02_rmax1.3_nrad_30_hollow.diego_l0.3_20191027T0300.193.lev1p5.ETN.Norm-Ck0.1024.b.dat.gif',\n",
       " '/data1/work/leuven_2024/Daria_Tom/tomografias/imagenes/aia_pov/comp_x_aia.193.cr2223.ri.00-ro1.02_rmax1.3_nrad_30_hollow.diego_l0.3_20191028T0300.193.lev1p5.ETN.Norm-Ck0.1024.b.dat.gif',\n",
       " '/data1/work/leuven_2024/Daria_Tom/tomografias/imagenes/aia_pov/comp_x_aia.193.cr2223.ri.00-ro1.02_rmax1.3_nrad_30_hollow.diego_l0.3_20191029T0300.193.lev1p5.ETN.Norm-Ck0.1024.b.dat.gif']"
      ]
     },
     "execution_count": 6,
     "metadata": {},
     "output_type": "execute_result"
    }
   ],
   "source": [
    "gif_files"
   ]
  },
  {
   "cell_type": "code",
   "execution_count": 7,
   "metadata": {},
   "outputs": [
    {
     "name": "stderr",
     "output_type": "stream",
     "text": [
      "/tmp/ipykernel_1770548/1553699755.py:3: DeprecationWarning: Starting with ImageIO v3 the behavior of this function will switch to that of iio.v3.imread. To keep the current behavior (and make this warning disappear) use `import imageio.v2 as imageio` or call `imageio.v2.imread` directly.\n",
      "  images.append(imageio.imread(filename))\n"
     ]
    }
   ],
   "source": [
    "images = []\n",
    "for filename in gif_files:\n",
    "    images.append(imageio.imread(filename))\n",
    "\n",
    "filepath_out = directory + \"output_movie_tom_aia.gif\"\n",
    "imageio.mimsave(filepath_out, images, format='GIF', duration=1000)"
   ]
  },
  {
   "cell_type": "code",
   "execution_count": null,
   "metadata": {},
   "outputs": [],
   "source": []
  }
 ],
 "metadata": {
  "kernelspec": {
   "display_name": "actual",
   "language": "python",
   "name": "python3"
  },
  "language_info": {
   "codemirror_mode": {
    "name": "ipython",
    "version": 3
   },
   "file_extension": ".py",
   "mimetype": "text/x-python",
   "name": "python",
   "nbconvert_exporter": "python",
   "pygments_lexer": "ipython3",
   "version": "3.10.6"
  }
 },
 "nbformat": 4,
 "nbformat_minor": 2
}
