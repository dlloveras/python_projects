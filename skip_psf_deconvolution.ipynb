{
  "cells": [
    {
      "cell_type": "markdown",
      "metadata": {},
      "source": [
        "\n# Deconvolving images with the instrument Point Spread Function (PSF)\n\nThis example demonstrates how to deconvolve an AIA image with\nthe instrument point spread function (PSF).\n"
      ]
    },
    {
      "cell_type": "code",
      "execution_count": null,
      "metadata": {
        "collapsed": false
      },
      "outputs": [],
      "source": [
        "import astropy.units as u\nimport matplotlib.pyplot as plt\nimport sunpy.map\nfrom astropy.coordinates import SkyCoord\nfrom astropy.visualization import AsinhStretch, ImageNormalize, LogStretch\n\nimport aiapy.data.sample as sample_data\nimport aiapy.psf"
      ]
    },
    {
      "cell_type": "markdown",
      "metadata": {},
      "source": [
        "AIA images are subject to convolution with the instrument point-spread\nfunction (PSF) due to effects introduced by the filter mesh of the telescope\nand the CCD, among others. This has the effect of \"blurring\" the image.\nThe PSF diffraction pattern may also be particularly noticeable during the\nimpulsive phase of a flare where the intensity enhancement is very localized.\nTo remove these artifacts, the PSF must be de-convolved from the image.\n\nFirst, we'll use a single level 1 image from the 171 \u00c5 channel from\n15 March 2019. Note that deconvolution should be performed on level 1 images\nonly. This is because, as with the level 1 data, the PSF model is defined\non the CCD grid. Once deconvolved, the image can be passed to\n`aiapy.calibrate.register`\n(see the `sphx_glr_generated_gallery_prepping_level_1_data.py` example).\n\n"
      ]
    },
    {
      "cell_type": "code",
      "execution_count": null,
      "metadata": {
        "collapsed": false
      },
      "outputs": [],
      "source": [
        "aia_map = sunpy.map.Map(sample_data.AIA_171_IMAGE)\n\nfig = plt.figure()\nax = fig.add_subplot(111, projection=aia_map)\naia_map.plot(\n    axes=ax,\n)"
      ]
    },
    {
      "cell_type": "markdown",
      "metadata": {},
      "source": [
        "Next, we'll calculate the PSF using `aiapy.psf.psf` for the 171 \u00c5 channel.\nThe PSF model accounts for several different effects, including diffraction\nfrom the mesh grating of the filters, charge spreading, and jitter. See\n[Grigis et al (2012)](https://sohoftp.nascom.nasa.gov/solarsoft/sdo/aia/idl/psf/DOC/psfreport.pdf)\nfor more details. Currently, this only works for  $4096\\times4096$ full frame images.\n\nNote that this will be significantly faster if you have a Nvidia GPU and the `cupy`\npackage installed.\n\n"
      ]
    },
    {
      "cell_type": "code",
      "execution_count": null,
      "metadata": {
        "collapsed": false
      },
      "outputs": [],
      "source": [
        "psf = aiapy.psf.psf(aia_map.wavelength)"
      ]
    },
    {
      "cell_type": "markdown",
      "metadata": {},
      "source": [
        "We'll plot just a 500-by-500 pixel section centered on the center pixel. The\ndiffraction \"arms\" extending from the center pixel can often be seen in\nflare observations due to the intense, small-scale brightening.\n\n"
      ]
    },
    {
      "cell_type": "code",
      "execution_count": null,
      "metadata": {
        "collapsed": false
      },
      "outputs": [],
      "source": [
        "fov = 500\nlc_x, lc_y = psf.shape[0] // 2 - fov // 2, psf.shape[1] // 2 - fov // 2\nfig = plt.figure()\nax = fig.add_subplot(111)\nax.imshow(\n    psf[lc_x : lc_x + fov, lc_y : lc_y + fov],\n    norm=ImageNormalize(vmin=1e-8, vmax=1e-3, stretch=LogStretch()),\n    origin=\"lower\",\n)\nax.set_title(\"PSF\")\nax.set_xlabel(\"Pixels\")\nax.set_ylabel(\"Pixels\")"
      ]
    },
    {
      "cell_type": "markdown",
      "metadata": {},
      "source": [
        "Now that we've downloaded our image and computed the PSF, we can deconvolve\nthe image with the PSF using the\n[Richardson-Lucy deconvolution algorithm](https://en.wikipedia.org/wiki/Richardson%E2%80%93Lucy_deconvolution).\nNote that passing in the PSF is optional. If you exclude it, it will be\ncalculated automatically. However, when deconvolving many images of the same\nwavelength, it is most efficient to only calculate the PSF once.\n\nAs with `aiapy.psf.psf`, this will be much faster if you have\na Nvidia GPU and `cupy` installed.\n\n"
      ]
    },
    {
      "cell_type": "code",
      "execution_count": null,
      "metadata": {
        "collapsed": false
      },
      "outputs": [],
      "source": [
        "aia_map_deconvolved = aiapy.psf.deconvolve(aia_map, psf=psf)"
      ]
    },
    {
      "cell_type": "markdown",
      "metadata": {},
      "source": [
        "Let's compare the convolved and deconvolved images.\n\n"
      ]
    },
    {
      "cell_type": "code",
      "execution_count": null,
      "metadata": {
        "collapsed": false
      },
      "outputs": [],
      "source": [
        "fig = plt.figure()\nax = fig.add_subplot(121, projection=aia_map)\nnorm = ImageNormalize(vmin=0, vmax=1.5e4, stretch=AsinhStretch(0.01))\naia_map.plot(axes=ax, norm=norm)\nax.set_title(\"Normal\")\n\nax = fig.add_subplot(122, projection=aia_map_deconvolved)\naia_map_deconvolved.plot(axes=ax, annotate=False, norm=norm)\nax.set_title(\"Deconvolved\")\nax.coords[0].set_axislabel(\" \")\nax.coords[1].set_axislabel(\" \")\nax.coords[1].set_ticklabel_visible(visible=False)\nfig.tight_layout()"
      ]
    },
    {
      "cell_type": "markdown",
      "metadata": {},
      "source": [
        "The differences become a bit more obvious when we zoom in. Note that the\ndeconvolution has the effect of \"deblurring\" the image.\n\n"
      ]
    },
    {
      "cell_type": "code",
      "execution_count": null,
      "metadata": {
        "collapsed": false
      },
      "outputs": [],
      "source": [
        "left_corner = 500 * u.arcsec, -600 * u.arcsec\nright_corner = 1000 * u.arcsec, -100 * u.arcsec\n\naia_map_sub = aia_map.submap(\n    bottom_left=SkyCoord(*left_corner, frame=aia_map.coordinate_frame),\n    top_right=SkyCoord(*right_corner, frame=aia_map.coordinate_frame),\n)\naia_map_deconvolved_sub = aia_map_deconvolved.submap(\n    bottom_left=SkyCoord(*left_corner, frame=aia_map_deconvolved.coordinate_frame),\n    top_right=SkyCoord(*right_corner, frame=aia_map_deconvolved.coordinate_frame),\n)\n\nfig = plt.figure()\n\nax = fig.add_subplot(121, projection=aia_map_sub)\naia_map_sub.plot(axes=ax, norm=norm)\nax.set_title(\"Normal\")\n\nax = fig.add_subplot(122, projection=aia_map_deconvolved_sub)\naia_map_deconvolved_sub.plot(axes=ax, annotate=False, norm=norm)\nax.set_title(\"Deconvolved\")\nax.coords[0].set_axislabel(\" \")\nax.coords[1].set_axislabel(\" \")\nax.coords[1].set_ticklabel_visible(visible=False)\n\nplt.show()"
      ]
    }
  ],
  "metadata": {
    "kernelspec": {
      "display_name": "Python 3",
      "language": "python",
      "name": "python3"
    },
    "language_info": {
      "codemirror_mode": {
        "name": "ipython",
        "version": 3
      },
      "file_extension": ".py",
      "mimetype": "text/x-python",
      "name": "python",
      "nbconvert_exporter": "python",
      "pygments_lexer": "ipython3",
      "version": "3.11.9"
    }
  },
  "nbformat": 4,
  "nbformat_minor": 0
}