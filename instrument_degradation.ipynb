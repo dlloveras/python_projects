{
  "cells": [
    {
      "cell_type": "markdown",
      "metadata": {},
      "source": [
        "\n# Modeling channel degradation over time\n\nThis example demonstrates how to model the degradation\nof the AIA channels as a function of time over the entire\nlifetime of the instrument.\n"
      ]
    },
    {
      "cell_type": "code",
      "execution_count": null,
      "metadata": {
        "collapsed": false
      },
      "outputs": [],
      "source": [
        "import astropy.time\nimport astropy.units as u\nimport matplotlib.pyplot as plt\nimport numpy as np\nfrom astropy.visualization import time_support\n\nfrom aiapy.calibrate import degradation\nfrom aiapy.calibrate.util import get_correction_table\n\n# This lets you pass `astropy.time.Time` objects directly to matplotlib\ntime_support(format=\"jyear\")"
      ]
    },
    {
      "cell_type": "markdown",
      "metadata": {},
      "source": [
        "The sensitivity of the AIA channels degrade over time. Possible causes include\nthe deposition of organic molecules from the telescope structure onto the\noptical elements and the decrease in detector sensitivity following (E)UV\nexposure. When looking at AIA images over the lifetime of the mission, it\nis important to understand how the degradation of the instrument impacts the\nmeasured intensity. For monitoring brightness changes over months and years,\ndegradation correction is an important step in the data normalization process.\nFor instance, the SDO Machine Learning Dataset\n([Galvez et al., 2019](https://ui.adsabs.harvard.edu/abs/2019ApJS..242....7G/abstract))\nincludes this correction.\n\nThe AIA team models the change in transmission as a function of time (see\n[Boerner et al., 2012](https://doi.org/10.1007/s11207-011-9804-8)) and\nthe table of correction parameters is publicly available via the\n[Joint Science Operations Center (JSOC)](http://jsoc.stanford.edu/).\n\nFirst, fetch this correction table. It is not strictly necessary to do this explicitly,\nbut will significantly speed up the calculation by only fetching the table\nonce.\n\n"
      ]
    },
    {
      "cell_type": "code",
      "execution_count": null,
      "metadata": {
        "collapsed": false
      },
      "outputs": [],
      "source": [
        "correction_table = get_correction_table()"
      ]
    },
    {
      "cell_type": "markdown",
      "metadata": {},
      "source": [
        "We want to compute the degradation for each EUV channel.\n\n"
      ]
    },
    {
      "cell_type": "code",
      "execution_count": null,
      "metadata": {
        "collapsed": false
      },
      "outputs": [],
      "source": [
        "aia_channels = [94, 131, 171, 193, 211, 304, 335] * u.angstrom"
      ]
    },
    {
      "cell_type": "markdown",
      "metadata": {},
      "source": [
        "We can use `~astropy.time.Time` to create an array of times\nbetween now and the start of the mission with a cadence of one week.\n\n"
      ]
    },
    {
      "cell_type": "code",
      "execution_count": null,
      "metadata": {
        "collapsed": false
      },
      "outputs": [],
      "source": [
        "start_time = astropy.time.Time(\"2010-03-25T00:00:00\", scale=\"utc\")\nnow = astropy.time.Time.now()\ntime_range = start_time + np.arange(0, (now - start_time).to(u.day).value, 7) * u.day"
      ]
    },
    {
      "cell_type": "markdown",
      "metadata": {},
      "source": [
        "Finally, we can use the `aiapy.calibrate.degradation` function to\ncompute the degradation for a particular channel and observation time.\nThis is modeled as the ratio of the effective area measured at a particular\ncalibration epoch over the uncorrected effective area with a polynomial\ninterpolation to the exact time.\n\n"
      ]
    },
    {
      "cell_type": "code",
      "execution_count": null,
      "metadata": {
        "collapsed": false
      },
      "outputs": [],
      "source": [
        "degradations = {\n    channel: degradation(channel, time_range, correction_table=correction_table) for channel in aia_channels\n}"
      ]
    },
    {
      "cell_type": "markdown",
      "metadata": {},
      "source": [
        "Plotting the different degradation curves as a function of time, we can\neasily visualize how the different channels have degraded over time.\n\n"
      ]
    },
    {
      "cell_type": "code",
      "execution_count": null,
      "metadata": {
        "collapsed": false
      },
      "outputs": [],
      "source": [
        "fig = plt.figure()\nax = fig.gca()\n\nfor channel in aia_channels:\n    ax.plot(time_range, degradations[channel], label=f\"{channel:latex}\")\n\nax.set_xlim(time_range[[0, -1]])\nax.legend(frameon=False, ncol=4, bbox_to_anchor=(0.5, 1), loc=\"lower center\")\nax.set_xlabel(\"Time\")\nax.set_ylabel(\"Degradation\")\n\nplt.show()"
      ]
    }
  ],
  "metadata": {
    "kernelspec": {
      "display_name": "Python 3",
      "language": "python",
      "name": "python3"
    },
    "language_info": {
      "codemirror_mode": {
        "name": "ipython",
        "version": 3
      },
      "file_extension": ".py",
      "mimetype": "text/x-python",
      "name": "python",
      "nbconvert_exporter": "python",
      "pygments_lexer": "ipython3",
      "version": "3.11.9"
    }
  },
  "nbformat": 4,
  "nbformat_minor": 0
}